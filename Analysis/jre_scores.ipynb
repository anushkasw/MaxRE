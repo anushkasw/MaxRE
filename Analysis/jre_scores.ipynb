{
 "cells": [
  {
   "cell_type": "code",
   "execution_count": null,
   "id": "initial_id",
   "metadata": {
    "collapsed": true
   },
   "outputs": [],
   "source": [
    "import pandas as pd\n",
    "import numpy as np\n",
    "import warnings\n",
    "from matplotlib import pyplot as plt\n",
    "import seaborn as sns\n",
    "warnings.filterwarnings('ignore')"
   ]
  },
  {
   "metadata": {},
   "cell_type": "code",
   "outputs": [],
   "execution_count": null,
   "source": "datasets = ['sem_eval_task_8', 'tacred', 'retacred', 'FewRel', 'NYT10', 'WebNLG', 'crossRE']",
   "id": "212f08b31c007e37"
  },
  {
   "metadata": {},
   "cell_type": "code",
   "outputs": [],
   "execution_count": null,
   "source": "joint_methods = [\"SPN4RE\", \"TDEER\", \"UniRel\", \"RIFRE\"]",
   "id": "f4d89bdb6d2c8941"
  },
  {
   "metadata": {},
   "cell_type": "code",
   "outputs": [],
   "execution_count": null,
   "source": [
    "results = pd.DataFrame(columns=['Method', 'Dataset', 'fold', 'precision', 'recall', 'f1'])\n",
    "\n",
    "for keys in joint_methods:\n",
    "    for data in datasets:\n",
    "        try:\n",
    "            df = pd.read_csv(f'/blue/woodard/share/Relation-Extraction/Methods/{keys}/cv_output/{data}/pr_metrics.csv')\n",
    "\n",
    "            for index, row in df.iterrows():\n",
    "                new_row = {'Method':keys, 'Dataset': data, 'fold': int(row['fold']),\n",
    "                           'precision': np.round(row['precision'],2), \n",
    "                            'recall': np.round(row['recall'],2), \n",
    "                           'f1': np.round(row['f1'],2)\n",
    "                          }\n",
    "                results = results.append(new_row, ignore_index=True)\n",
    "        except:\n",
    "            print(f'Missing {data}, {keys}')\n",
    "            continue\n"
   ],
   "id": "388f69882d21b298"
  },
  {
   "metadata": {},
   "cell_type": "code",
   "outputs": [],
   "execution_count": null,
   "source": "g_df = results.groupby(['Method', 'Dataset'], as_index=False).mean()",
   "id": "4bb12a57568af13d"
  },
  {
   "metadata": {},
   "cell_type": "code",
   "outputs": [],
   "execution_count": null,
   "source": [
    "# Create the boxplot with horizontal orientation and transparent boxes\n",
    "plt.figure(figsize=(14, 4))\n",
    "ax = sns.boxplot(y='Method', x='f1', data=g_df, palette='Set3',\n",
    "                 boxprops={'facecolor': 'none', 'edgecolor': 'black'},  # Transparent box with black edges\n",
    "                 whiskerprops={'color': 'black'},\n",
    "                 capprops={'color': 'black'},\n",
    "                 medianprops={'color': 'black'})\n",
    "\n",
    "# Overlay with stripplot to show individual data points with different colors\n",
    "ax = sns.stripplot(y='Method', x='f1', data=g_df, hue='Dataset', dodge=False, palette='bright',\n",
    "                   marker='o', alpha=0.7, size=8)\n",
    "\n",
    "# Increase fontsize of x and y ticks\n",
    "ax.tick_params(axis='x', labelsize=14)  # Change labelsize as needed\n",
    "ax.tick_params(axis='y', labelsize=14)  # Change labelsize as needed\n",
    "\n",
    "# Get the handles and labels for the legend\n",
    "handles, labels = ax.get_legend_handles_labels()\n",
    "\n",
    "ax.set_xlabel('F1 Score', fontsize=14)\n",
    "ax.set_ylabel('Methods', fontsize=14)\n",
    "\n",
    "# Set x-axis limits\n",
    "ax.set_xlim(0, 1)  # Set x limits to 0-1\n",
    "\n",
    "\n",
    "# Define custom names for the 'Dataset' hue categories\n",
    "custom_hue_labels = ['FewRel', 'NYT10', 'WebNLG', 'CrossRE', 'RETACRED', 'SemEval', 'TACRED']  # Replace with your custom hue labels\n",
    "\n",
    "# Update the legend with custom hue labels\n",
    "plt.legend(handles, custom_hue_labels, title='Datasets', loc='upper center', fontsize=14, title_fontsize=14,\n",
    "           bbox_to_anchor=(0.5, 1.23), ncol=len(custom_hue_labels), frameon=False)\n",
    "\n",
    "\n",
    "# Rotate y-axis labels if needed\n",
    "ax.set_yticklabels(ax.get_yticklabels(), rotation=0)\n",
    "\n",
    "\n",
    "# Save the plot as a PNG file\n",
    "plt.savefig('./images/joint_all.png', format='png', dpi=600, bbox_inches='tight')  # Save with 300 DPI and tight bounding box\n",
    "\n",
    "# Show plot\n",
    "plt.show()"
   ],
   "id": "7a9c5c6ff944780b"
  }
 ],
 "metadata": {
  "kernelspec": {
   "display_name": "Python 3",
   "language": "python",
   "name": "python3"
  },
  "language_info": {
   "codemirror_mode": {
    "name": "ipython",
    "version": 2
   },
   "file_extension": ".py",
   "mimetype": "text/x-python",
   "name": "python",
   "nbconvert_exporter": "python",
   "pygments_lexer": "ipython2",
   "version": "2.7.6"
  }
 },
 "nbformat": 4,
 "nbformat_minor": 5
}
